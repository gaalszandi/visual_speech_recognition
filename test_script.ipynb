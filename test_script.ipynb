{
  "nbformat": 4,
  "nbformat_minor": 0,
  "metadata": {
    "colab": {
      "name": "test_script.ipynb",
      "provenance": [],
      "collapsed_sections": [
        "psURL7vxXIBs"
      ]
    },
    "kernelspec": {
      "display_name": "Python 3",
      "language": "python",
      "name": "python3"
    },
    "language_info": {
      "codemirror_mode": {
        "name": "ipython",
        "version": 3
      },
      "file_extension": ".py",
      "mimetype": "text/x-python",
      "name": "python",
      "nbconvert_exporter": "python",
      "pygments_lexer": "ipython3",
      "version": "3.7.3"
    },
    "accelerator": "GPU"
  },
  "cells": [
    {
      "cell_type": "markdown",
      "metadata": {
        "id": "SGjQ9r7jxb1W"
      },
      "source": [
        "# Visual speech recognition with neural networks\n",
        "\n",
        "There are a lot of studies considering speech recognition from visual and audio sources. This application is useful for creating subtitles automatic for videos, where the mouth can be seen.\n",
        "\n",
        "Our goal is to process different videos, and find out what word was spelled. In our dataset we have different words and for each word we have around 1000 videos.\n",
        "\n",
        "We ran the script in Google Colaboratory.\n"
      ]
    },
    {
      "cell_type": "code",
      "metadata": {
        "colab": {
          "base_uri": "https://localhost:8080/"
        },
        "id": "kSrl7CTRKhNl",
        "outputId": "3842962a-b938-4590-c6bd-ced148c0d5a8"
      },
      "source": [
        "from google.colab import drive\n",
        "drive.mount('/content/drive', force_remount=True)"
      ],
      "execution_count": 2,
      "outputs": [
        {
          "output_type": "stream",
          "text": [
            "Mounted at /content/drive\n"
          ],
          "name": "stdout"
        }
      ]
    },
    {
      "cell_type": "code",
      "metadata": {
        "id": "2orlLdX6HzSk"
      },
      "source": [
        "# importing necessary libraries\n",
        "import dlib\n",
        "import glob\n",
        "import imageio\n",
        "import math\n",
        "import matplotlib.pyplot as plt\n",
        "import matplotlib.image as mpimg\n",
        "import numpy as np\n",
        "import os\n",
        "import shutil\n",
        "import subprocess\n",
        "import time\n",
        "from tqdm import tqdm\n",
        "from matplotlib.patches import Rectangle\n",
        "from skimage.transform import resize\n"
      ],
      "execution_count": 3,
      "outputs": []
    },
    {
      "cell_type": "markdown",
      "metadata": {
        "id": "RvH1WQ5jReCU"
      },
      "source": [
        "## Datagenerator\n",
        "\n",
        "There isn't any implemented datagenerator for video frames in keras but we can write our own video frame datagenerator. It would be useful to create a datagenerator which can work with the model.fit function. This function can use keras.utils.Sequence (or datagenerator) type variables in the x parameter. "
      ]
    },
    {
      "cell_type": "markdown",
      "metadata": {
        "id": "K1a-qvk72mnN"
      },
      "source": [
        "### Video frame datagenerator"
      ]
    },
    {
      "cell_type": "markdown",
      "metadata": {
        "id": "zhip2Zf3dPOq"
      },
      "source": [
        "The VideoFrameGenerator class derives from the keras.utils.Sequence class. Our class generates batch of frames from the frames directory. Video frames should be classified in classes. The directories have to be the following format:\n",
        "\n",
        "*   videos/class1/file1/frameimages\n",
        "*   videos/class1/file2/frameimages\n",
        "*   videos/class2/file3/frameimages\n",
        "\n",
        "The frame images are created in the above Dataset block. In the transform parameter we can add data augmentation methods with az ImagDataGenerator type variable.\n",
        "\n",
        "We need to implement some important functions in our class, because the model.fit function uses them during training.\n",
        "\n",
        "*   __iter__()\n",
        "*   __next__()\n",
        "*   __getitem()__\n",
        "\n",
        "The class stores only the path to the files. The images are processed during training. During this preprocessing we rescale for normalization and resize the image and if it is needed it is converted to grayscale image. There is a given frame number in the init function, because the frames can only be stored in a numpy array if they have the same length. There are a lot of words with different length and that's why with different frames so we have to pad the frames (sequences) to get the same frame numbers. We use the pad_sequences function with post padding which pads the frames with empty frames (zero padding) at the end. The network will learn that the padding doesn't matter.\n",
        "\n",
        "\n",
        "            "
      ]
    },
    {
      "cell_type": "code",
      "metadata": {
        "id": "oWmQj9XA2rck"
      },
      "source": [
        "import keras\n",
        "import cv2 as cv\n",
        "import glob\n",
        "import numpy as np\n",
        "import os\n",
        "import random\n",
        "from tqdm import tqdm\n",
        "from keras.preprocessing.image import img_to_array\n",
        "from keras.preprocessing.sequence import pad_sequences\n",
        "\n",
        "class VideoFrameGenerator(keras.utils.Sequence):\n",
        "    '''\n",
        "        Generates video frames from frame directories\n",
        "    '''\n",
        "    def __init__(self,\n",
        "                 from_dir,\n",
        "                 rescale=1/255.,\n",
        "                 batch_size=8,\n",
        "                 shape=(100, 100, 3),\n",
        "                 nbframe=20,\n",
        "                 shuffle=False,\n",
        "                 transform:keras.preprocessing.image.ImageDataGenerator=None,\n",
        "                 grayscale=False\n",
        "                ):\n",
        "        \"\"\"\n",
        "        Create a Video Frame Generator with data augmentation.\n",
        "        \n",
        "        Arguments:\n",
        "        - from_dir: path to the data directory where resides video frames\n",
        "        - rescale: the value for rescaling the images\n",
        "        - batch_size: number of videos to generate in a step\n",
        "        - shape: the shape of the result images\n",
        "        - nbframe: number of frames per video\n",
        "        - shuffle: flag to shuffle data at start and after each epoch\n",
        "        - transform: a keras ImageGenerator configured with random transformations\n",
        "            to apply on each frame\n",
        "        - grayscale: flag to convert images to grayscale or not\n",
        "        \"\"\"\n",
        "\n",
        "        self.from_dir = from_dir\n",
        "        self.rescale = rescale\n",
        "        self.nbframe = nbframe\n",
        "        self.batch_size = batch_size\n",
        "        self.target_shape = shape\n",
        "        self.shuffle = shuffle\n",
        "        self.transform = transform\n",
        "        self.grayscale = grayscale\n",
        "        \n",
        "        self.classes = []\n",
        "        self.files = []\n",
        "        self.class_indices = {}\n",
        "\n",
        "        self._current = 0\n",
        "        \n",
        "        self.__filecount = 0\n",
        "        self.__get_all_files()\n",
        "\n",
        "        print(\"\\nTotal data: %d classes for %d files for %s\" % (\n",
        "            len(self.classes),\n",
        "            len(self.files),\n",
        "            os.path.basename(self.from_dir)))\n",
        "    \n",
        "        \n",
        "    def __len__(self):\n",
        "        \"\"\" Length of the generator\n",
        "         It gives the number of loop to do. You can use it as\n",
        "        `step_per_epoch` or `validation_step` for `model.fit_generator` parameters.\n",
        "        \"\"\"\n",
        "        return self.__filecount//self.batch_size\n",
        "\n",
        "    def __iter__(self):\n",
        "      return self\n",
        "\n",
        "    def __next__(self):\n",
        "        return self.next()\n",
        "    \n",
        "    def next(self):\n",
        "      \"\"\" Return next element\"\"\"\n",
        "      elem = self[self._current]\n",
        "      self._current += 1\n",
        "      if self._current == len(self):\n",
        "          self._current = 0\n",
        "          self.on_epoch_end()\n",
        "\n",
        "      return elem\n",
        "\n",
        "\n",
        "    def __getitem__(self, index):\n",
        "        \"\"\" Generator needed method - return a batch of `batch_size` video frames\n",
        "        \"\"\"\n",
        "\n",
        "        labels = []\n",
        "        images = []\n",
        "\n",
        "        # get the next block of files (it contains a batchsize of the video frames)\n",
        "        frame_dirs = self.files[index*self.batch_size:(index+1)*self.batch_size]\n",
        "\n",
        "        for dir in frame_dirs:\n",
        "          # get classname from path\n",
        "          label_name = self._get_classname(dir)\n",
        "\n",
        "          # check if class name is valid\n",
        "          label = np.zeros(len(self.classes))\n",
        "          if label_name not in self.class_indices.keys():\n",
        "            print(f'ERROR: {label_name} not in class labels.')\n",
        "            continue\n",
        "          \n",
        "          # get the id of the class\n",
        "          col = self.class_indices[label_name]\n",
        "          label[col] = 1.\n",
        "\n",
        "          # get preprocessed frames for the actual video\n",
        "          frames = self.__readframe(dir)\n",
        "\n",
        "          if frames is None:\n",
        "            continue\n",
        "\n",
        "          # use data augmentation\n",
        "          frames = self.__data_aug(frames)\n",
        "        \n",
        "          # add the sequence in batch\n",
        "          images.append(frames)\n",
        "          labels.append(label)\n",
        "\n",
        "        return np.array(images), np.array(labels)\n",
        "    \n",
        "    def on_epoch_end(self):\n",
        "        \"\"\" When epoch has finished, random shuffle images in memory \"\"\"\n",
        "\n",
        "        if self.shuffle:\n",
        "            random.shuffle(self.files)\n",
        "\n",
        "    def _get_classname(self, video: str) -> str:\n",
        "      \"\"\" Find classname from video fraem dir path \"\"\"\n",
        "\n",
        "      classname = os.path.basename(os.path.dirname(video))\n",
        "      return classname\n",
        "    \n",
        "    def __get_all_files(self):\n",
        "        \"\"\" List and store images path in memory \"\"\"\n",
        "        # get classes and sort them in ABC order\n",
        "        self.classes = glob.glob(os.path.join(self.from_dir, '*'))\n",
        "        self.classes = sorted([os.path.basename(c) for c in self.classes])\n",
        "\n",
        "        # create label indexes for classes\n",
        "        self.class_indices = dict(zip(self.classes, range(len(self.classes))))\n",
        "\n",
        "        # count all video file dirs\n",
        "        self.__filecount = len(glob.glob(os.path.join(self.from_dir, '*/*')))\n",
        "        \n",
        "        for classname in self.classes:\n",
        "            # print('\\n', classname)\n",
        "\n",
        "            # list video file dirs for classes\n",
        "            videos = glob.glob(os.path.join(self.from_dir, classname, '*'))\n",
        "\n",
        "            self.files += videos\n",
        "\n",
        "        # shuffle files\n",
        "        random.shuffle(self.files)\n",
        "        self.on_epoch_end()\n",
        "        \n",
        "    def __readframe(self, frame_dir):\n",
        "      \"\"\"Read and preprocess frames from directory\"\"\"\n",
        "      frames = []\n",
        "\n",
        "      # read frame images\n",
        "      files = glob.glob(os.path.join(frame_dir, '*'))\n",
        "      for f in files:\n",
        "        frame = cv.imread(f)\n",
        "        frame = cv.cvtColor(frame, cv.COLOR_BGR2RGB)\n",
        "        frame = cv.resize(frame, self.target_shape[:2])\n",
        "        if self.grayscale:\n",
        "          frame = cv.cvtColor(frame, cv.COLOR_RGB2GRAY) \n",
        "\n",
        "        frame = img_to_array(frame) * self.rescale\n",
        "        frames.append(frame)\n",
        "      \n",
        "      if len(frames)==0:\n",
        "        print(\"ERROR: not found frames\\n\")\n",
        "        return None\n",
        "\n",
        "      else:\n",
        "        \n",
        "        # use padding to create a self.nbframes length of images\n",
        "        frames = pad_sequences([frames], padding=\"post\", maxlen=self.nbframe, dtype=float, truncating=\"post\")[0]\n",
        "\n",
        "        # add frames in memory\n",
        "        if len(frames) == self.nbframe:\n",
        "            return frames\n",
        "            \n",
        "        else:\n",
        "            print('\\n%s has not enough frames ==> %d' % (frame_dir, len(frames)))\n",
        "            return None\n",
        "            \n",
        "    def __data_aug(self, frames):\n",
        "        \"\"\" Make random transformation based on ImageGenerator arguments\"\"\"\n",
        "        T = None\n",
        "        if self.transform is not None:\n",
        "          # get random transform from generator\n",
        "            T = self.transform.get_random_transform(self.target_shape[:2])\n",
        "        \n",
        "        result = frames\n",
        "        if T is not None:\n",
        "          # apply transformation\n",
        "          result = [self.transform.apply_transform(frame, T) for frame in frames]\n",
        "\n",
        "        return np.array(result)"
      ],
      "execution_count": 4,
      "outputs": []
    },
    {
      "cell_type": "markdown",
      "metadata": {
        "id": "KiKcZA45X_4C"
      },
      "source": [
        "Copy the zip file from drive and unzip it, because training from drive is too slow."
      ]
    },
    {
      "cell_type": "code",
      "metadata": {
        "colab": {
          "base_uri": "https://localhost:8080/",
          "height": 35
        },
        "id": "UyyeA31alpzJ",
        "outputId": "37232e36-2072-4e32-f1c1-1d4783192077"
      },
      "source": [
        "shutil.copyfile('/content/drive/MyDrive/DL_HW/dataset10.zip', '/content/dataset10.zip')"
      ],
      "execution_count": 5,
      "outputs": [
        {
          "output_type": "execute_result",
          "data": {
            "application/vnd.google.colaboratory.intrinsic+json": {
              "type": "string"
            },
            "text/plain": [
              "'/content/dataset10.zip'"
            ]
          },
          "metadata": {
            "tags": []
          },
          "execution_count": 5
        }
      ]
    },
    {
      "cell_type": "code",
      "metadata": {
        "id": "0eKwn5PGlenC"
      },
      "source": [
        "!unzip /content/dataset10.zip"
      ],
      "execution_count": null,
      "outputs": []
    },
    {
      "cell_type": "code",
      "metadata": {
        "colab": {
          "base_uri": "https://localhost:8080/",
          "height": 35
        },
        "id": "KczizK0YdlAw",
        "outputId": "1cf72684-cd5c-445e-e589-42b8e02707c0"
      },
      "source": [
        "shutil.copyfile('/content/drive/MyDrive/DL_HW/export_100words.zip', '/content/export_100words.zip')"
      ],
      "execution_count": null,
      "outputs": [
        {
          "output_type": "execute_result",
          "data": {
            "application/vnd.google.colaboratory.intrinsic+json": {
              "type": "string"
            },
            "text/plain": [
              "'/content/export_100words.zip'"
            ]
          },
          "metadata": {
            "tags": []
          },
          "execution_count": 7
        }
      ]
    },
    {
      "cell_type": "code",
      "metadata": {
        "id": "hkFrZ--mdnCZ"
      },
      "source": [
        "!unzip /content/export_100words.zip"
      ],
      "execution_count": null,
      "outputs": []
    },
    {
      "cell_type": "markdown",
      "metadata": {
        "id": "CNQy4swsqrW3"
      },
      "source": [
        "Define necessary variables"
      ]
    },
    {
      "cell_type": "code",
      "metadata": {
        "id": "eEIu3Lssciaf"
      },
      "source": [
        "NBFRAME = 20\n",
        "TARGET_SIZE = 100\n",
        "BSIZE = 32\n",
        "TO_GRAYSCALE = True\n",
        "\n",
        "TRAIN_DIR = '/content/dataset10/train'\n",
        "VAL_DIR = '/content/dataset10/val'\n",
        "TEST_DIR = '/content/dataset10/test'"
      ],
      "execution_count": 92,
      "outputs": []
    },
    {
      "cell_type": "markdown",
      "metadata": {
        "id": "W2zagXPuk1P7"
      },
      "source": [
        "Use datagenerators for train, validation and test directories"
      ]
    },
    {
      "cell_type": "code",
      "metadata": {
        "colab": {
          "base_uri": "https://localhost:8080/"
        },
        "id": "N1hDYC_-5osi",
        "outputId": "6a51cb40-a159-4bf2-defc-7f074253d9ee"
      },
      "source": [
        "test_gen = VideoFrameGenerator(from_dir = TEST_DIR,\n",
        "                 rescale=1/255.,\n",
        "                 batch_size=1,\n",
        "                 shape=(TARGET_SIZE, TARGET_SIZE, 1 if TO_GRAYSCALE else 3),\n",
        "                 nbframe=NBFRAME,\n",
        "                 shuffle=False,\n",
        "                 grayscale = TO_GRAYSCALE)"
      ],
      "execution_count": 94,
      "outputs": [
        {
          "output_type": "stream",
          "text": [
            "\n",
            "Total data: 10 classes for 50 files for test\n"
          ],
          "name": "stdout"
        }
      ]
    },
    {
      "cell_type": "markdown",
      "metadata": {
        "id": "9FXgSC2VmPEg"
      },
      "source": [
        "You can print the class indices to see the labels and their indexes."
      ]
    },
    {
      "cell_type": "code",
      "metadata": {
        "colab": {
          "base_uri": "https://localhost:8080/"
        },
        "id": "oVq7zaTX1uvs",
        "outputId": "f682335c-e3be-45ff-be6e-0715adff999a"
      },
      "source": [
        "print(test_gen.class_indices)"
      ],
      "execution_count": 13,
      "outputs": [
        {
          "output_type": "stream",
          "text": [
            "{'ABOUT': 0, 'ABSOLUTELY': 1, 'ANNOUNCED': 2, 'ANYTHING': 3, 'BECAUSE': 4, 'BLACK': 5, 'BORDER': 6, 'CHANGE': 7, 'CHILDREN': 8, 'CLOUD': 9}\n"
          ],
          "name": "stdout"
        }
      ]
    },
    {
      "cell_type": "markdown",
      "metadata": {
        "id": "yMLt83ZzN83k"
      },
      "source": [
        "## Models\n",
        "\n",
        "We trained some different models for solving the problem. The results can be visualized in the logs directory with tensorboard."
      ]
    },
    {
      "cell_type": "markdown",
      "metadata": {
        "id": "T34uu1JGIoXQ"
      },
      "source": [
        "### ResNet + BidiGRU\n",
        "\n",
        "This model consists of a frontend part where they use Conv3D layers with pooling and batch normalization to extract low-level features from the sequences of the video frames (grayscale images). After that a ResNet architecture is used to get higher level features. (It uses 2D convolution) The backend of the network consists of bidirectional GRU or LSTM layers. At the end a Dense layer is used with softmax activation for classification. The model can be used with temporal convulation instead of memory cells. Lambda layers are used to integrate tensorflow functions to the network as a layer.\n",
        "\n",
        "The idea is from the document on the link below:\n",
        "https://arxiv.org/pdf/1703.04105.pdf\n",
        "\n",
        "![image.png](data:image/png;base64,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)"
      ]
    },
    {
      "cell_type": "code",
      "metadata": {
        "id": "2abMy5LqC1F-",
        "colab": {
          "base_uri": "https://localhost:8080/"
        },
        "outputId": "d3a62e39-7f2d-466c-db89-84e6b7a2c4a4"
      },
      "source": [
        "!pip install image-classifiers"
      ],
      "execution_count": 14,
      "outputs": [
        {
          "output_type": "stream",
          "text": [
            "Collecting image-classifiers\n",
            "  Downloading https://files.pythonhosted.org/packages/81/98/6f84720e299a4942ab80df5f76ab97b7828b24d1de5e9b2cbbe6073228b7/image_classifiers-1.0.0-py3-none-any.whl\n",
            "Collecting keras-applications<=1.0.8,>=1.0.7\n",
            "\u001b[?25l  Downloading https://files.pythonhosted.org/packages/71/e3/19762fdfc62877ae9102edf6342d71b28fbfd9dea3d2f96a882ce099b03f/Keras_Applications-1.0.8-py3-none-any.whl (50kB)\n",
            "\u001b[K     |████████████████████████████████| 51kB 6.8MB/s \n",
            "\u001b[?25hRequirement already satisfied: numpy>=1.9.1 in /usr/local/lib/python3.6/dist-packages (from keras-applications<=1.0.8,>=1.0.7->image-classifiers) (1.18.5)\n",
            "Requirement already satisfied: h5py in /usr/local/lib/python3.6/dist-packages (from keras-applications<=1.0.8,>=1.0.7->image-classifiers) (2.10.0)\n",
            "Requirement already satisfied: six in /usr/local/lib/python3.6/dist-packages (from h5py->keras-applications<=1.0.8,>=1.0.7->image-classifiers) (1.15.0)\n",
            "Installing collected packages: keras-applications, image-classifiers\n",
            "Successfully installed image-classifiers-1.0.0 keras-applications-1.0.8\n"
          ],
          "name": "stdout"
        }
      ]
    },
    {
      "cell_type": "code",
      "metadata": {
        "id": "1dP85gTe0ahe"
      },
      "source": [
        "import tensorflow as tf\n",
        "from tensorflow.keras.layers import Input, Dense, GRU, GlobalAveragePooling2D, MaxPooling1D, Lambda, Bidirectional\n",
        "from tensorflow.keras.layers import MaxPooling3D, ZeroPadding3D, Conv3D, Conv1D, Activation, BatchNormalization, Dropout\n",
        "from tensorflow.keras import Model, Sequential\n",
        "from classification_models.keras import Classifiers\n",
        "from tensorflow.keras.applications import MobileNetV2\n",
        "from tensorflow.keras.regularizers import l2\n",
        "\n",
        "def GRU(x, hidden_size):\n",
        "\n",
        "    # in case of GRU add reset_after=True parameter, dropout!!!! \n",
        "    out = Bidirectional(keras.layers.GRU(hidden_size, return_sequences=True, \n",
        "                                         kernel_initializer='Orthogonal', reset_after=False, \n",
        "                                         name='gru1'), merge_mode='concat')(x)\n",
        "    out = Bidirectional(keras.layers.GRU(hidden_size, return_sequences=False, \n",
        "                                         kernel_initializer='Orthogonal', reset_after=False, \n",
        "                                         name='gru2'), merge_mode='concat')(out)\n",
        "    \n",
        "    return out\n",
        "\n",
        "def create_Resnet_GRU(mode, activation, dropout, filterdim, inputDim, hiddenDim, nClasses, frameLen, input_shape=(NBFRAME,TARGET_SIZE,TARGET_SIZE,1), every_frame=True):\n",
        "  # images need to converted to grayscale\n",
        "\n",
        "  # frontend part of the network\n",
        "  frontend3D = Sequential([\n",
        "                ZeroPadding3D(padding=(2, 3, 3)),\n",
        "                Conv3D(filterdim, kernel_size=(5, 7, 7), strides=(1, 2, 2), padding='valid', kernel_regularizer=l2(1e-2), use_bias=False),\n",
        "                BatchNormalization(),\n",
        "                Activation(activation),\n",
        "                ZeroPadding3D(padding=((0, 4, 8))),\n",
        "                MaxPooling3D(pool_size=(1, 2, 3), strides=(1, 1, 2))\n",
        "                ])\n",
        "  \n",
        "  # for temporal convolution\n",
        "  backend_conv1 = Sequential([\n",
        "            Conv1D(2*inputDim, 5, strides=2, use_bias=False),\n",
        "            BatchNormalization(),\n",
        "            Activation(activation),\n",
        "            MaxPooling1D(2, 2),\n",
        "            Conv1D(4*inputDim, 5, strides=2, use_bias=False),\n",
        "            BatchNormalization(),\n",
        "            Activation(activation)\n",
        "            ])\n",
        "  \n",
        "  # for temporal convolution\n",
        "  backend_conv2 = Sequential([\n",
        "            Dense(inputDim),\n",
        "            BatchNormalization(),\n",
        "            Activation(activation),\n",
        "            Dense(nClasses)\n",
        "            ])\n",
        "  \n",
        "  # -----------------------------------------------------------------\n",
        "  # creating the model\n",
        "  input_frames = Input(shape=input_shape, name='frames_input')\n",
        "  x = frontend3D(input_frames)\n",
        "\n",
        "  # reshape output for the input of Resnet 2D\n",
        "  x = Lambda(lambda x : tf.reshape(x, [-1, int(x.shape[2]), int(x.shape[3]), int(x.shape[4])]), name='lambda2')(x)\n",
        "\n",
        "  channels = int(x.shape[-1])\n",
        "  \n",
        "  # get resnet model\n",
        "  ResNet18, preprocess_input = Classifiers.get('resnet18')\n",
        "  resnet18 = ResNet18((None, None, channels), weights=None, include_top=False)\n",
        "\n",
        "  x = resnet18(x)\n",
        "  # x = MobileNetV2(\n",
        "  #     input_shape=(None, None, channels),\n",
        "  #     include_top=False,\n",
        "  #     weights=None)(x)\n",
        "\n",
        "  # Flatten with global average pooling  for the input of the dense layer\n",
        "  x = GlobalAveragePooling2D(name='global_avgpool_resnet')(x)\n",
        "  x = Dense(inputDim, name='dense_resnet', kernel_regularizer=l2(1e-2))(x)\n",
        "  x = Dropout(dropout)(x)\n",
        "  x = BatchNormalization(name='bn_resnet')(x)\n",
        "\n",
        "  if mode == 'temporalConv':\n",
        "    x = Lambda(lambda x : tf.reshape(x, [-1, frameLen, inputDim]), name='lambda3')(x)   #x.view(-1, frameLen, inputDim)\n",
        "\n",
        "    x = Lambda(lambda x : tf.transpose(x, [0, 2, 1]), name='lambda4')(x)   #x.transpose(1, 2)\n",
        "    x = backend_conv1(x)\n",
        "    x = Lambda(lambda x : tf.reduce_mean(x, 2), name='lambda5')(x)\n",
        "    x = backend_conv2(x)\n",
        "\n",
        "  elif mode == 'backendGRU' or mode == 'finetuneGRU':\n",
        "    x = Lambda(lambda x : tf.reshape(x, [-1, frameLen, inputDim]), name='lambda6')(x)    #x.view(-1, frameLen, inputDim)\n",
        "\n",
        "    # add memory cells to the network (GRU or LSTM)\n",
        "    x = GRU(x, hiddenDim)\n",
        "\n",
        "    # add the dropout layer and the last Dense layer for classification\n",
        "    if every_frame:\n",
        "      x = Dropout(dropout)(x)\n",
        "      x = Dense(nClasses, activation='softmax')(x)  # predictions based on every time step\n",
        "    else:\n",
        "      x = Dropout(dropout)(x)\n",
        "      x = Dense(nClasses, activation='softmax')(x[:, -1, :])  # predictions based on last time-step\n",
        "\n",
        "  # construct the model\n",
        "  model = Model(inputs=input_frames, outputs=x)\n",
        "\n",
        "  return model\n"
      ],
      "execution_count": 50,
      "outputs": []
    },
    {
      "cell_type": "markdown",
      "metadata": {
        "id": "Mle_0IGJqcmU"
      },
      "source": [
        "Create the model with the written functions above. After that the model is compiled with SGD optimizer and categorical crossentropy loss function."
      ]
    },
    {
      "cell_type": "code",
      "metadata": {
        "colab": {
          "base_uri": "https://localhost:8080/"
        },
        "id": "kPM2ZDT2I070",
        "outputId": "879f3c16-dfca-4ecf-9556-e3f8befbc2dc"
      },
      "source": [
        "CLASS_NUM = len(test_gen.class_indices.keys())\n",
        "print('class number: ',CLASS_NUM)\n",
        "\n",
        "# call the model creator function\n",
        "model = create_Resnet_GRU(mode='backendGRU', activation='elu', \n",
        "                          dropout=0.2, filterdim=32, inputDim=32, \n",
        "                          hiddenDim=20, nClasses=CLASS_NUM, \n",
        "                          frameLen=NBFRAME, every_frame=True)\n"
      ],
      "execution_count": 105,
      "outputs": [
        {
          "output_type": "stream",
          "text": [
            "class number:  10\n",
            "WARNING:tensorflow:Layer gru1 will not use cuDNN kernel since it doesn't meet the cuDNN kernel criteria. It will use generic GPU kernel as fallback when running on GPU\n",
            "WARNING:tensorflow:Layer gru1 will not use cuDNN kernel since it doesn't meet the cuDNN kernel criteria. It will use generic GPU kernel as fallback when running on GPU\n",
            "WARNING:tensorflow:Layer gru1 will not use cuDNN kernel since it doesn't meet the cuDNN kernel criteria. It will use generic GPU kernel as fallback when running on GPU\n",
            "WARNING:tensorflow:Layer gru2 will not use cuDNN kernel since it doesn't meet the cuDNN kernel criteria. It will use generic GPU kernel as fallback when running on GPU\n",
            "WARNING:tensorflow:Layer gru2 will not use cuDNN kernel since it doesn't meet the cuDNN kernel criteria. It will use generic GPU kernel as fallback when running on GPU\n",
            "WARNING:tensorflow:Layer gru2 will not use cuDNN kernel since it doesn't meet the cuDNN kernel criteria. It will use generic GPU kernel as fallback when running on GPU\n"
          ],
          "name": "stdout"
        }
      ]
    },
    {
      "cell_type": "markdown",
      "metadata": {
        "id": "3bX2MgCArTgD"
      },
      "source": [
        "The network structure:"
      ]
    },
    {
      "cell_type": "code",
      "metadata": {
        "id": "HVtlWx9zNao6"
      },
      "source": [
        "model.summary()"
      ],
      "execution_count": null,
      "outputs": []
    },
    {
      "cell_type": "markdown",
      "metadata": {
        "id": "Q6o5NmM4lY4U"
      },
      "source": [
        "## Testing the models"
      ]
    },
    {
      "cell_type": "code",
      "metadata": {
        "id": "INDnHMJNlcpk"
      },
      "source": [
        "mpath = '/content/drive/MyDrive/DL_HW/models/resnet18_backendgru_valshuffleFalse_bsizeval1_adam_elu_regularizer_dropout2_dataaug_1536.hdf5'\n",
        "model.load_weights(mpath)"
      ],
      "execution_count": 110,
      "outputs": []
    },
    {
      "cell_type": "code",
      "metadata": {
        "id": "xY4x_rt_lgU0"
      },
      "source": [
        "from sklearn.metrics import accuracy_score, confusion_matrix\n",
        "import seaborn as sns"
      ],
      "execution_count": 14,
      "outputs": []
    },
    {
      "cell_type": "code",
      "metadata": {
        "id": "ySOdNEOvlg5h"
      },
      "source": [
        "def predict_on_test_set(test_set, model):\n",
        "\n",
        "  # execute prediction with the given model\n",
        "  predicts = model.predict(test_set, verbose = True, workers = 4)\n",
        "\n",
        "  # get the prediction with the highest confidence\n",
        "  top_predicts = np.argmax(predicts, axis=1)\n",
        "\n",
        "  # get the labels from the path of the files\n",
        "  groundtruth_labels = [x.rsplit('/',2)[1] for x in test_set.files]\n",
        "  # get the index of the label names\n",
        "  gt_index = [test_set.class_indices[l] for l in groundtruth_labels]\n",
        "\n",
        "  # calculate accuracy and show confusion matrix\n",
        "  print(f\"test accuracy: {accuracy_score(gt_index, top_predicts)}\")\n",
        "  print(\"Confusion matrix: \")\n",
        "  conf=confusion_matrix(gt_index, top_predicts)\n",
        "  # print(conf)\n",
        "\n",
        "  # show the matrix on heatmap\n",
        "  sns.heatmap(conf, annot=True, fmt='d', vmax=5)"
      ],
      "execution_count": 113,
      "outputs": []
    },
    {
      "cell_type": "code",
      "metadata": {
        "colab": {
          "base_uri": "https://localhost:8080/",
          "height": 319
        },
        "id": "KTSQDhxYllT-",
        "outputId": "eaaa6dde-e8d2-419a-9aa5-d3904f961960"
      },
      "source": [
        "predict_on_test_set(test_gen, model)"
      ],
      "execution_count": 114,
      "outputs": [
        {
          "output_type": "stream",
          "text": [
            "50/50 [==============================] - 1s 23ms/step\n",
            "test accuracy: 0.58\n",
            "Confusion matrix: \n"
          ],
          "name": "stdout"
        },
        {
          "output_type": "display_data",
          "data": {
            "image/png": "[encoded data removed]",
            "text/plain": [
              "<Figure size 432x288 with 2 Axes>"
            ]
          },
          "metadata": {
            "tags": [],
            "needs_background": "light"
          }
        }
      ]
    },
    {
      "cell_type": "markdown",
      "metadata": {
        "id": "9FtxC0mdXGBR"
      },
      "source": [
        "Detailed results for every videos"
      ]
    },
    {
      "cell_type": "code",
      "metadata": {
        "colab": {
          "base_uri": "https://localhost:8080/",
          "height": 1000
        },
        "id": "m5_Zy1qlTJGZ",
        "outputId": "7385109d-4e25-4cf6-8734-90b7df993f5e"
      },
      "source": [
        "import pandas as pd\n",
        "\n",
        "predictions = model.predict(test_gen)\n",
        "index = np.argmax(predictions, axis=1)  # the predicted id of the labels for the images\n",
        "values = np.max(predictions, axis=1)\n",
        "labels = [x.rsplit('/',2)[1] for x in test_gen.files] # real labels of the FILES\n",
        "\n",
        "column_names = ['Video path', 'Real word', 'Prediction', 'Confidence', 'Is Matching']\n",
        "rows = []\n",
        "\n",
        "for i,label_id in enumerate(index):\n",
        "  predicted_label = list(test_gen.class_indices.keys())[label_id]    # class_indices starts at 0\n",
        "  real_label = labels[i]\n",
        "  is_match = predicted_label == real_label\n",
        "  data = [test_gen.files[i].rsplit('/',1)[1], real_label, predicted_label, values[i], is_match]\n",
        "  rows.append(data)\n",
        "\n",
        "df = pd.DataFrame(rows,columns=column_names)\n",
        "df = df.sort_values('Video path')\n",
        "\n",
        "df"
      ],
      "execution_count": 116,
      "outputs": [
        {
          "output_type": "execute_result",
          "data": {
            "text/html": [
              "<div>\n",
              "<style scoped>\n",
              "    .dataframe tbody tr th:only-of-type {\n",
              "        vertical-align: middle;\n",
              "    }\n",
              "\n",
              "    .dataframe tbody tr th {\n",
              "        vertical-align: top;\n",
              "    }\n",
              "\n",
              "    .dataframe thead th {\n",
              "        text-align: right;\n",
              "    }\n",
              "</style>\n",
              "<table border=\"1\" class=\"dataframe\">\n",
              "  <thead>\n",
              "    <tr style=\"text-align: right;\">\n",
              "      <th></th>\n",
              "      <th>Video path</th>\n",
              "      <th>Real word</th>\n",
              "      <th>Prediction</th>\n",
              "      <th>Confidence</th>\n",
              "      <th>Is Matching</th>\n",
              "    </tr>\n",
              "  </thead>\n",
              "  <tbody>\n",
              "    <tr>\n",
              "      <th>10</th>\n",
              "      <td>ABOUT_00005</td>\n",
              "      <td>ABOUT</td>\n",
              "      <td>ABOUT</td>\n",
              "      <td>0.665974</td>\n",
              "      <td>True</td>\n",
              "    </tr>\n",
              "    <tr>\n",
              "      <th>13</th>\n",
              "      <td>ABOUT_00009</td>\n",
              "      <td>ABOUT</td>\n",
              "      <td>CLOUD</td>\n",
              "      <td>0.641089</td>\n",
              "      <td>False</td>\n",
              "    </tr>\n",
              "    <tr>\n",
              "      <th>4</th>\n",
              "      <td>ABOUT_00035</td>\n",
              "      <td>ABOUT</td>\n",
              "      <td>ABOUT</td>\n",
              "      <td>0.812749</td>\n",
              "      <td>True</td>\n",
              "    </tr>\n",
              "    <tr>\n",
              "      <th>9</th>\n",
              "      <td>ABOUT_00038</td>\n",
              "      <td>ABOUT</td>\n",
              "      <td>ABOUT</td>\n",
              "      <td>0.508506</td>\n",
              "      <td>True</td>\n",
              "    </tr>\n",
              "    <tr>\n",
              "      <th>27</th>\n",
              "      <td>ABOUT_00043</td>\n",
              "      <td>ABOUT</td>\n",
              "      <td>ANYTHING</td>\n",
              "      <td>0.341594</td>\n",
              "      <td>False</td>\n",
              "    </tr>\n",
              "    <tr>\n",
              "      <th>46</th>\n",
              "      <td>ABSOLUTELY_00010</td>\n",
              "      <td>ABSOLUTELY</td>\n",
              "      <td>ABSOLUTELY</td>\n",
              "      <td>0.318364</td>\n",
              "      <td>True</td>\n",
              "    </tr>\n",
              "    <tr>\n",
              "      <th>18</th>\n",
              "      <td>ABSOLUTELY_00033</td>\n",
              "      <td>ABSOLUTELY</td>\n",
              "      <td>ABSOLUTELY</td>\n",
              "      <td>0.738237</td>\n",
              "      <td>True</td>\n",
              "    </tr>\n",
              "    <tr>\n",
              "      <th>1</th>\n",
              "      <td>ABSOLUTELY_00035</td>\n",
              "      <td>ABSOLUTELY</td>\n",
              "      <td>ANYTHING</td>\n",
              "      <td>0.648926</td>\n",
              "      <td>False</td>\n",
              "    </tr>\n",
              "    <tr>\n",
              "      <th>33</th>\n",
              "      <td>ABSOLUTELY_00041</td>\n",
              "      <td>ABSOLUTELY</td>\n",
              "      <td>CHILDREN</td>\n",
              "      <td>0.772104</td>\n",
              "      <td>False</td>\n",
              "    </tr>\n",
              "    <tr>\n",
              "      <th>41</th>\n",
              "      <td>ABSOLUTELY_00050</td>\n",
              "      <td>ABSOLUTELY</td>\n",
              "      <td>ABSOLUTELY</td>\n",
              "      <td>0.400032</td>\n",
              "      <td>True</td>\n",
              "    </tr>\n",
              "    <tr>\n",
              "      <th>20</th>\n",
              "      <td>ANNOUNCED_00008</td>\n",
              "      <td>ANNOUNCED</td>\n",
              "      <td>BLACK</td>\n",
              "      <td>0.411946</td>\n",
              "      <td>False</td>\n",
              "    </tr>\n",
              "    <tr>\n",
              "      <th>35</th>\n",
              "      <td>ANNOUNCED_00012</td>\n",
              "      <td>ANNOUNCED</td>\n",
              "      <td>ABOUT</td>\n",
              "      <td>0.437309</td>\n",
              "      <td>False</td>\n",
              "    </tr>\n",
              "    <tr>\n",
              "      <th>36</th>\n",
              "      <td>ANNOUNCED_00028</td>\n",
              "      <td>ANNOUNCED</td>\n",
              "      <td>CHANGE</td>\n",
              "      <td>0.406625</td>\n",
              "      <td>False</td>\n",
              "    </tr>\n",
              "    <tr>\n",
              "      <th>5</th>\n",
              "      <td>ANNOUNCED_00038</td>\n",
              "      <td>ANNOUNCED</td>\n",
              "      <td>ANNOUNCED</td>\n",
              "      <td>0.304974</td>\n",
              "      <td>True</td>\n",
              "    </tr>\n",
              "    <tr>\n",
              "      <th>23</th>\n",
              "      <td>ANNOUNCED_00043</td>\n",
              "      <td>ANNOUNCED</td>\n",
              "      <td>ANNOUNCED</td>\n",
              "      <td>0.621434</td>\n",
              "      <td>True</td>\n",
              "    </tr>\n",
              "    <tr>\n",
              "      <th>39</th>\n",
              "      <td>ANYTHING_00004</td>\n",
              "      <td>ANYTHING</td>\n",
              "      <td>ANYTHING</td>\n",
              "      <td>0.602427</td>\n",
              "      <td>True</td>\n",
              "    </tr>\n",
              "    <tr>\n",
              "      <th>17</th>\n",
              "      <td>ANYTHING_00005</td>\n",
              "      <td>ANYTHING</td>\n",
              "      <td>ANYTHING</td>\n",
              "      <td>0.773158</td>\n",
              "      <td>True</td>\n",
              "    </tr>\n",
              "    <tr>\n",
              "      <th>7</th>\n",
              "      <td>ANYTHING_00010</td>\n",
              "      <td>ANYTHING</td>\n",
              "      <td>ANYTHING</td>\n",
              "      <td>0.854188</td>\n",
              "      <td>True</td>\n",
              "    </tr>\n",
              "    <tr>\n",
              "      <th>24</th>\n",
              "      <td>ANYTHING_00021</td>\n",
              "      <td>ANYTHING</td>\n",
              "      <td>ANYTHING</td>\n",
              "      <td>0.840917</td>\n",
              "      <td>True</td>\n",
              "    </tr>\n",
              "    <tr>\n",
              "      <th>26</th>\n",
              "      <td>ANYTHING_00050</td>\n",
              "      <td>ANYTHING</td>\n",
              "      <td>CLOUD</td>\n",
              "      <td>0.568288</td>\n",
              "      <td>False</td>\n",
              "    </tr>\n",
              "    <tr>\n",
              "      <th>49</th>\n",
              "      <td>BECAUSE_00007</td>\n",
              "      <td>BECAUSE</td>\n",
              "      <td>BECAUSE</td>\n",
              "      <td>0.860788</td>\n",
              "      <td>True</td>\n",
              "    </tr>\n",
              "    <tr>\n",
              "      <th>29</th>\n",
              "      <td>BECAUSE_00009</td>\n",
              "      <td>BECAUSE</td>\n",
              "      <td>CHILDREN</td>\n",
              "      <td>0.441191</td>\n",
              "      <td>False</td>\n",
              "    </tr>\n",
              "    <tr>\n",
              "      <th>45</th>\n",
              "      <td>BECAUSE_00019</td>\n",
              "      <td>BECAUSE</td>\n",
              "      <td>BECAUSE</td>\n",
              "      <td>0.683317</td>\n",
              "      <td>True</td>\n",
              "    </tr>\n",
              "    <tr>\n",
              "      <th>21</th>\n",
              "      <td>BECAUSE_00025</td>\n",
              "      <td>BECAUSE</td>\n",
              "      <td>CHILDREN</td>\n",
              "      <td>0.450181</td>\n",
              "      <td>False</td>\n",
              "    </tr>\n",
              "    <tr>\n",
              "      <th>0</th>\n",
              "      <td>BECAUSE_00026</td>\n",
              "      <td>BECAUSE</td>\n",
              "      <td>CHILDREN</td>\n",
              "      <td>0.472283</td>\n",
              "      <td>False</td>\n",
              "    </tr>\n",
              "    <tr>\n",
              "      <th>16</th>\n",
              "      <td>BLACK_00016</td>\n",
              "      <td>BLACK</td>\n",
              "      <td>BLACK</td>\n",
              "      <td>0.670406</td>\n",
              "      <td>True</td>\n",
              "    </tr>\n",
              "    <tr>\n",
              "      <th>44</th>\n",
              "      <td>BLACK_00023</td>\n",
              "      <td>BLACK</td>\n",
              "      <td>BLACK</td>\n",
              "      <td>0.862271</td>\n",
              "      <td>True</td>\n",
              "    </tr>\n",
              "    <tr>\n",
              "      <th>14</th>\n",
              "      <td>BLACK_00029</td>\n",
              "      <td>BLACK</td>\n",
              "      <td>BLACK</td>\n",
              "      <td>0.797881</td>\n",
              "      <td>True</td>\n",
              "    </tr>\n",
              "    <tr>\n",
              "      <th>30</th>\n",
              "      <td>BLACK_00040</td>\n",
              "      <td>BLACK</td>\n",
              "      <td>BLACK</td>\n",
              "      <td>0.516659</td>\n",
              "      <td>True</td>\n",
              "    </tr>\n",
              "    <tr>\n",
              "      <th>25</th>\n",
              "      <td>BLACK_00045</td>\n",
              "      <td>BLACK</td>\n",
              "      <td>BLACK</td>\n",
              "      <td>0.757098</td>\n",
              "      <td>True</td>\n",
              "    </tr>\n",
              "    <tr>\n",
              "      <th>34</th>\n",
              "      <td>BORDER_00003</td>\n",
              "      <td>BORDER</td>\n",
              "      <td>CHILDREN</td>\n",
              "      <td>0.523451</td>\n",
              "      <td>False</td>\n",
              "    </tr>\n",
              "    <tr>\n",
              "      <th>2</th>\n",
              "      <td>BORDER_00022</td>\n",
              "      <td>BORDER</td>\n",
              "      <td>CHILDREN</td>\n",
              "      <td>0.380756</td>\n",
              "      <td>False</td>\n",
              "    </tr>\n",
              "    <tr>\n",
              "      <th>19</th>\n",
              "      <td>BORDER_00029</td>\n",
              "      <td>BORDER</td>\n",
              "      <td>BORDER</td>\n",
              "      <td>0.629107</td>\n",
              "      <td>True</td>\n",
              "    </tr>\n",
              "    <tr>\n",
              "      <th>22</th>\n",
              "      <td>BORDER_00044</td>\n",
              "      <td>BORDER</td>\n",
              "      <td>CHILDREN</td>\n",
              "      <td>0.698438</td>\n",
              "      <td>False</td>\n",
              "    </tr>\n",
              "    <tr>\n",
              "      <th>12</th>\n",
              "      <td>BORDER_00049</td>\n",
              "      <td>BORDER</td>\n",
              "      <td>CHILDREN</td>\n",
              "      <td>0.722439</td>\n",
              "      <td>False</td>\n",
              "    </tr>\n",
              "    <tr>\n",
              "      <th>11</th>\n",
              "      <td>CHANGE_00001</td>\n",
              "      <td>CHANGE</td>\n",
              "      <td>ANYTHING</td>\n",
              "      <td>0.577774</td>\n",
              "      <td>False</td>\n",
              "    </tr>\n",
              "    <tr>\n",
              "      <th>47</th>\n",
              "      <td>CHANGE_00002</td>\n",
              "      <td>CHANGE</td>\n",
              "      <td>CHANGE</td>\n",
              "      <td>0.474374</td>\n",
              "      <td>True</td>\n",
              "    </tr>\n",
              "    <tr>\n",
              "      <th>31</th>\n",
              "      <td>CHANGE_00003</td>\n",
              "      <td>CHANGE</td>\n",
              "      <td>CHANGE</td>\n",
              "      <td>0.820980</td>\n",
              "      <td>True</td>\n",
              "    </tr>\n",
              "    <tr>\n",
              "      <th>3</th>\n",
              "      <td>CHANGE_00004</td>\n",
              "      <td>CHANGE</td>\n",
              "      <td>ANYTHING</td>\n",
              "      <td>0.514277</td>\n",
              "      <td>False</td>\n",
              "    </tr>\n",
              "    <tr>\n",
              "      <th>8</th>\n",
              "      <td>CHANGE_00005</td>\n",
              "      <td>CHANGE</td>\n",
              "      <td>CHANGE</td>\n",
              "      <td>0.796329</td>\n",
              "      <td>True</td>\n",
              "    </tr>\n",
              "    <tr>\n",
              "      <th>6</th>\n",
              "      <td>CHILDREN_00001</td>\n",
              "      <td>CHILDREN</td>\n",
              "      <td>CHILDREN</td>\n",
              "      <td>0.875716</td>\n",
              "      <td>True</td>\n",
              "    </tr>\n",
              "    <tr>\n",
              "      <th>48</th>\n",
              "      <td>CHILDREN_00002</td>\n",
              "      <td>CHILDREN</td>\n",
              "      <td>CHANGE</td>\n",
              "      <td>0.705066</td>\n",
              "      <td>False</td>\n",
              "    </tr>\n",
              "    <tr>\n",
              "      <th>15</th>\n",
              "      <td>CHILDREN_00003</td>\n",
              "      <td>CHILDREN</td>\n",
              "      <td>CHANGE</td>\n",
              "      <td>0.551089</td>\n",
              "      <td>False</td>\n",
              "    </tr>\n",
              "    <tr>\n",
              "      <th>42</th>\n",
              "      <td>CHILDREN_00004</td>\n",
              "      <td>CHILDREN</td>\n",
              "      <td>CHILDREN</td>\n",
              "      <td>0.654667</td>\n",
              "      <td>True</td>\n",
              "    </tr>\n",
              "    <tr>\n",
              "      <th>28</th>\n",
              "      <td>CHILDREN_00005</td>\n",
              "      <td>CHILDREN</td>\n",
              "      <td>CHILDREN</td>\n",
              "      <td>0.701320</td>\n",
              "      <td>True</td>\n",
              "    </tr>\n",
              "    <tr>\n",
              "      <th>32</th>\n",
              "      <td>CLOUD_00001</td>\n",
              "      <td>CLOUD</td>\n",
              "      <td>CLOUD</td>\n",
              "      <td>0.792147</td>\n",
              "      <td>True</td>\n",
              "    </tr>\n",
              "    <tr>\n",
              "      <th>37</th>\n",
              "      <td>CLOUD_00002</td>\n",
              "      <td>CLOUD</td>\n",
              "      <td>ANNOUNCED</td>\n",
              "      <td>0.508439</td>\n",
              "      <td>False</td>\n",
              "    </tr>\n",
              "    <tr>\n",
              "      <th>43</th>\n",
              "      <td>CLOUD_00003</td>\n",
              "      <td>CLOUD</td>\n",
              "      <td>ANNOUNCED</td>\n",
              "      <td>0.601999</td>\n",
              "      <td>False</td>\n",
              "    </tr>\n",
              "    <tr>\n",
              "      <th>40</th>\n",
              "      <td>CLOUD_00004</td>\n",
              "      <td>CLOUD</td>\n",
              "      <td>CLOUD</td>\n",
              "      <td>0.868434</td>\n",
              "      <td>True</td>\n",
              "    </tr>\n",
              "    <tr>\n",
              "      <th>38</th>\n",
              "      <td>CLOUD_00005</td>\n",
              "      <td>CLOUD</td>\n",
              "      <td>CLOUD</td>\n",
              "      <td>0.808038</td>\n",
              "      <td>True</td>\n",
              "    </tr>\n",
              "  </tbody>\n",
              "</table>\n",
              "</div>"
            ],
            "text/plain": [
              "          Video path   Real word  Prediction  Confidence  Is Matching\n",
              "10       ABOUT_00005       ABOUT       ABOUT    0.665974         True\n",
              "13       ABOUT_00009       ABOUT       CLOUD    0.641089        False\n",
              "4        ABOUT_00035       ABOUT       ABOUT    0.812749         True\n",
              "9        ABOUT_00038       ABOUT       ABOUT    0.508506         True\n",
              "27       ABOUT_00043       ABOUT    ANYTHING    0.341594        False\n",
              "46  ABSOLUTELY_00010  ABSOLUTELY  ABSOLUTELY    0.318364         True\n",
              "18  ABSOLUTELY_00033  ABSOLUTELY  ABSOLUTELY    0.738237         True\n",
              "1   ABSOLUTELY_00035  ABSOLUTELY    ANYTHING    0.648926        False\n",
              "33  ABSOLUTELY_00041  ABSOLUTELY    CHILDREN    0.772104        False\n",
              "41  ABSOLUTELY_00050  ABSOLUTELY  ABSOLUTELY    0.400032         True\n",
              "20   ANNOUNCED_00008   ANNOUNCED       BLACK    0.411946        False\n",
              "35   ANNOUNCED_00012   ANNOUNCED       ABOUT    0.437309        False\n",
              "36   ANNOUNCED_00028   ANNOUNCED      CHANGE    0.406625        False\n",
              "5    ANNOUNCED_00038   ANNOUNCED   ANNOUNCED    0.304974         True\n",
              "23   ANNOUNCED_00043   ANNOUNCED   ANNOUNCED    0.621434         True\n",
              "39    ANYTHING_00004    ANYTHING    ANYTHING    0.602427         True\n",
              "17    ANYTHING_00005    ANYTHING    ANYTHING    0.773158         True\n",
              "7     ANYTHING_00010    ANYTHING    ANYTHING    0.854188         True\n",
              "24    ANYTHING_00021    ANYTHING    ANYTHING    0.840917         True\n",
              "26    ANYTHING_00050    ANYTHING       CLOUD    0.568288        False\n",
              "49     BECAUSE_00007     BECAUSE     BECAUSE    0.860788         True\n",
              "29     BECAUSE_00009     BECAUSE    CHILDREN    0.441191        False\n",
              "45     BECAUSE_00019     BECAUSE     BECAUSE    0.683317         True\n",
              "21     BECAUSE_00025     BECAUSE    CHILDREN    0.450181        False\n",
              "0      BECAUSE_00026     BECAUSE    CHILDREN    0.472283        False\n",
              "16       BLACK_00016       BLACK       BLACK    0.670406         True\n",
              "44       BLACK_00023       BLACK       BLACK    0.862271         True\n",
              "14       BLACK_00029       BLACK       BLACK    0.797881         True\n",
              "30       BLACK_00040       BLACK       BLACK    0.516659         True\n",
              "25       BLACK_00045       BLACK       BLACK    0.757098         True\n",
              "34      BORDER_00003      BORDER    CHILDREN    0.523451        False\n",
              "2       BORDER_00022      BORDER    CHILDREN    0.380756        False\n",
              "19      BORDER_00029      BORDER      BORDER    0.629107         True\n",
              "22      BORDER_00044      BORDER    CHILDREN    0.698438        False\n",
              "12      BORDER_00049      BORDER    CHILDREN    0.722439        False\n",
              "11      CHANGE_00001      CHANGE    ANYTHING    0.577774        False\n",
              "47      CHANGE_00002      CHANGE      CHANGE    0.474374         True\n",
              "31      CHANGE_00003      CHANGE      CHANGE    0.820980         True\n",
              "3       CHANGE_00004      CHANGE    ANYTHING    0.514277        False\n",
              "8       CHANGE_00005      CHANGE      CHANGE    0.796329         True\n",
              "6     CHILDREN_00001    CHILDREN    CHILDREN    0.875716         True\n",
              "48    CHILDREN_00002    CHILDREN      CHANGE    0.705066        False\n",
              "15    CHILDREN_00003    CHILDREN      CHANGE    0.551089        False\n",
              "42    CHILDREN_00004    CHILDREN    CHILDREN    0.654667         True\n",
              "28    CHILDREN_00005    CHILDREN    CHILDREN    0.701320         True\n",
              "32       CLOUD_00001       CLOUD       CLOUD    0.792147         True\n",
              "37       CLOUD_00002       CLOUD   ANNOUNCED    0.508439        False\n",
              "43       CLOUD_00003       CLOUD   ANNOUNCED    0.601999        False\n",
              "40       CLOUD_00004       CLOUD       CLOUD    0.868434         True\n",
              "38       CLOUD_00005       CLOUD       CLOUD    0.808038         True"
            ]
          },
          "metadata": {
            "tags": []
          },
          "execution_count": 116
        }
      ]
    }
  ]
}